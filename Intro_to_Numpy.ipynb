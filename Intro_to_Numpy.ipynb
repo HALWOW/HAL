{
  "nbformat": 4,
  "nbformat_minor": 0,
  "metadata": {
    "kernelspec": {
      "display_name": "Python 3",
      "language": "python",
      "name": "python3"
    },
    "language_info": {
      "codemirror_mode": {
        "name": "ipython",
        "version": 3
      },
      "file_extension": ".py",
      "mimetype": "text/x-python",
      "name": "python",
      "nbconvert_exporter": "python",
      "pygments_lexer": "ipython3",
      "version": "3.6.9"
    },
    "colab": {
      "name": "Copy of Intro_to_Numpy.ipynb",
      "provenance": [],
      "toc_visible": true,
      "include_colab_link": true
    }
  },
  "cells": [
    {
      "cell_type": "markdown",
      "metadata": {
        "id": "view-in-github",
        "colab_type": "text"
      },
      "source": [
        "<a href=\"https://colab.research.google.com/github/HALWOW/HAL/blob/master/Intro_to_Numpy.ipynb\" target=\"_parent\"><img src=\"https://colab.research.google.com/assets/colab-badge.svg\" alt=\"Open In Colab\"/></a>"
      ]
    },
    {
      "cell_type": "markdown",
      "metadata": {
        "id": "cQmuoOzj3VsV",
        "colab_type": "text"
      },
      "source": [
        "# Початок роботи з бібліотекою Numpy"
      ]
    },
    {
      "cell_type": "markdown",
      "metadata": {
        "id": "Z3iti8wf3VsX",
        "colab_type": "text"
      },
      "source": [
        "У даній лабораторній роботі розглянуто наступний функціонал бібліотеки Numpy:\n",
        "1. Створення масиву.\n",
        "2. Відображення масивів .\n",
        "3. Базові операції з масивами."
      ]
    },
    {
      "cell_type": "markdown",
      "metadata": {
        "id": "IsoOuu-83VsY",
        "colab_type": "text"
      },
      "source": [
        "## Імпорт бібліотек та пакетів"
      ]
    },
    {
      "cell_type": "markdown",
      "metadata": {
        "id": "HuwDNMnR3VsZ",
        "colab_type": "text"
      },
      "source": [
        "Завантажуємо бібліотеку numpy та використаємо скорочення np."
      ]
    },
    {
      "cell_type": "code",
      "metadata": {
        "id": "BEeTpM183Vsa",
        "colab_type": "code",
        "colab": {}
      },
      "source": [
        "import numpy as np"
      ],
      "execution_count": 0,
      "outputs": []
    },
    {
      "cell_type": "markdown",
      "metadata": {
        "id": "P04piGAS3Vsd",
        "colab_type": "text"
      },
      "source": [
        "## Створеня масиву"
      ]
    },
    {
      "cell_type": "markdown",
      "metadata": {
        "id": "6l_svaqq3Vse",
        "colab_type": "text"
      },
      "source": [
        "Існує кілька способів створення масивів.\n",
        "Наприклад, можливе створення масиву зі звичайного списку Python або за допомогою функції масиву. Тип отриманого масиву обирається відповідно до типу елементів у послідовностях."
      ]
    },
    {
      "cell_type": "code",
      "metadata": {
        "id": "8GYIkPMA3Vsf",
        "colab_type": "code",
        "outputId": "5d17e169-3613-4ef1-c660-03b0ec89a34a",
        "colab": {
          "base_uri": "https://localhost:8080/",
          "height": 34
        }
      },
      "source": [
        "a = np.array([2,3,4])\n",
        "a"
      ],
      "execution_count": 0,
      "outputs": [
        {
          "output_type": "execute_result",
          "data": {
            "text/plain": [
              "array([2, 3, 4])"
            ]
          },
          "metadata": {
            "tags": []
          },
          "execution_count": 2
        }
      ]
    },
    {
      "cell_type": "markdown",
      "metadata": {
        "id": "HbYTkxMD3Vsi",
        "colab_type": "text"
      },
      "source": [
        "#### Друк типу масиву"
      ]
    },
    {
      "cell_type": "code",
      "metadata": {
        "id": "n26ce0xF3Vsj",
        "colab_type": "code",
        "outputId": "e14b8407-6f16-4429-bdda-5c6d69a14f64",
        "colab": {
          "base_uri": "https://localhost:8080/",
          "height": 34
        }
      },
      "source": [
        "a.dtype"
      ],
      "execution_count": 0,
      "outputs": [
        {
          "output_type": "execute_result",
          "data": {
            "text/plain": [
              "dtype('int64')"
            ]
          },
          "metadata": {
            "tags": []
          },
          "execution_count": 3
        }
      ]
    },
    {
      "cell_type": "code",
      "metadata": {
        "id": "q0Ps7D9d3Vso",
        "colab_type": "code",
        "outputId": "f31b9c42-06da-47d9-9e90-8d46da4d0c31",
        "colab": {
          "base_uri": "https://localhost:8080/",
          "height": 34
        }
      },
      "source": [
        "b = np.array([1.2, 3.5, 5.1])\n",
        "b.dtype"
      ],
      "execution_count": 0,
      "outputs": [
        {
          "output_type": "execute_result",
          "data": {
            "text/plain": [
              "dtype('float64')"
            ]
          },
          "metadata": {
            "tags": []
          },
          "execution_count": 4
        }
      ]
    },
    {
      "cell_type": "markdown",
      "metadata": {
        "id": "CKsXvhul3Vss",
        "colab_type": "text"
      },
      "source": [
        "#### Часта помилка полягає у виклику масиву з кількома числовими аргументами, а не в наданні єдиного списку чисел як аргументу."
      ]
    },
    {
      "cell_type": "code",
      "metadata": {
        "id": "ZqqoZigA3Vst",
        "colab_type": "code",
        "outputId": "b65be023-46e8-42cd-c929-4da200d63c81",
        "colab": {
          "base_uri": "https://localhost:8080/",
          "height": 163
        }
      },
      "source": [
        "a = np.array(1,2,3,4)    # ПОМИЛКА"
      ],
      "execution_count": 0,
      "outputs": [
        {
          "output_type": "error",
          "ename": "ValueError",
          "evalue": "ignored",
          "traceback": [
            "\u001b[0;31m---------------------------------------------------------------------------\u001b[0m",
            "\u001b[0;31mValueError\u001b[0m                                Traceback (most recent call last)",
            "\u001b[0;32m<ipython-input-5-341b73b3abe4>\u001b[0m in \u001b[0;36m<module>\u001b[0;34m()\u001b[0m\n\u001b[0;32m----> 1\u001b[0;31m \u001b[0ma\u001b[0m \u001b[0;34m=\u001b[0m \u001b[0mnp\u001b[0m\u001b[0;34m.\u001b[0m\u001b[0marray\u001b[0m\u001b[0;34m(\u001b[0m\u001b[0;36m1\u001b[0m\u001b[0;34m,\u001b[0m\u001b[0;36m2\u001b[0m\u001b[0;34m,\u001b[0m\u001b[0;36m3\u001b[0m\u001b[0;34m,\u001b[0m\u001b[0;36m4\u001b[0m\u001b[0;34m)\u001b[0m    \u001b[0;31m# ПОМИЛКА\u001b[0m\u001b[0;34m\u001b[0m\u001b[0;34m\u001b[0m\u001b[0m\n\u001b[0m",
            "\u001b[0;31mValueError\u001b[0m: only 2 non-keyword arguments accepted"
          ]
        }
      ]
    },
    {
      "cell_type": "code",
      "metadata": {
        "id": "On0WtC_M3Vsw",
        "colab_type": "code",
        "outputId": "8decafb0-da85-43b4-8146-1119af7fbb4e",
        "colab": {
          "base_uri": "https://localhost:8080/",
          "height": 34
        }
      },
      "source": [
        "a = np.array([1,2,3,4])  # ВІРНО\n",
        "a"
      ],
      "execution_count": 0,
      "outputs": [
        {
          "output_type": "execute_result",
          "data": {
            "text/plain": [
              "array([1, 2, 3, 4])"
            ]
          },
          "metadata": {
            "tags": []
          },
          "execution_count": 6
        }
      ]
    },
    {
      "cell_type": "markdown",
      "metadata": {
        "id": "OFRRTHzp3Vsz",
        "colab_type": "text"
      },
      "source": [
        "Також можливе створення багатовимірних масивів"
      ]
    },
    {
      "cell_type": "code",
      "metadata": {
        "id": "pLy06VpZ3Vs0",
        "colab_type": "code",
        "outputId": "82875c78-cd40-476a-d852-d92186bd2a64",
        "colab": {
          "base_uri": "https://localhost:8080/",
          "height": 51
        }
      },
      "source": [
        "b = np.array([(1.5,2,3), (4,5,6)])\n",
        "b"
      ],
      "execution_count": 0,
      "outputs": [
        {
          "output_type": "execute_result",
          "data": {
            "text/plain": [
              "array([[1.5, 2. , 3. ],\n",
              "       [4. , 5. , 6. ]])"
            ]
          },
          "metadata": {
            "tags": []
          },
          "execution_count": 7
        }
      ]
    },
    {
      "cell_type": "markdown",
      "metadata": {
        "id": "TeEWm2at3Vs3",
        "colab_type": "text"
      },
      "source": [
        "Тип масиву також може бути явно вказаний під час створення:"
      ]
    },
    {
      "cell_type": "code",
      "metadata": {
        "id": "aIVNu-zf3Vs4",
        "colab_type": "code",
        "outputId": "b079ce08-f466-4d5e-9493-67c6ad36c28b",
        "colab": {
          "base_uri": "https://localhost:8080/",
          "height": 51
        }
      },
      "source": [
        "c = np.array( [ [1,2], [3,4] ], dtype=complex )\n",
        "c"
      ],
      "execution_count": 0,
      "outputs": [
        {
          "output_type": "execute_result",
          "data": {
            "text/plain": [
              "array([[1.+0.j, 2.+0.j],\n",
              "       [3.+0.j, 4.+0.j]])"
            ]
          },
          "metadata": {
            "tags": []
          },
          "execution_count": 8
        }
      ]
    },
    {
      "cell_type": "markdown",
      "metadata": {
        "id": "pZvgv1yJ3Vs7",
        "colab_type": "text"
      },
      "source": [
        "Часто елементи масиву спочатку невідомі, але його розмір відомий. Отже, NumPy пропонує кілька функцій для створення масивів з початковим вмістом.\n",
        "\n",
        "**np.zeros()** створює масив, заповнений нулями, **np.ones()** створюють масив, повний одиниць, а функція **np.empty()** створює масив, початковий вміст якого є випадковим і залежить від стану пам'яті. За замовчуванням типом створеного масиву є float64."
      ]
    },
    {
      "cell_type": "code",
      "metadata": {
        "id": "BJfdtw5o3Vs7",
        "colab_type": "code",
        "outputId": "ced6a684-13f2-4b17-eb6e-87b952a5ba6c",
        "colab": {
          "base_uri": "https://localhost:8080/",
          "height": 68
        }
      },
      "source": [
        "np.zeros((3,4))"
      ],
      "execution_count": 0,
      "outputs": [
        {
          "output_type": "execute_result",
          "data": {
            "text/plain": [
              "array([[0., 0., 0., 0.],\n",
              "       [0., 0., 0., 0.],\n",
              "       [0., 0., 0., 0.]])"
            ]
          },
          "metadata": {
            "tags": []
          },
          "execution_count": 9
        }
      ]
    },
    {
      "cell_type": "code",
      "metadata": {
        "id": "CeRPbeSD3Vs-",
        "colab_type": "code",
        "outputId": "992c5adb-1750-4265-9a79-499309b07b1a",
        "colab": {}
      },
      "source": [
        "np.ones((2,3,4), dtype=np.int16) "
      ],
      "execution_count": 0,
      "outputs": [
        {
          "output_type": "execute_result",
          "data": {
            "text/plain": [
              "array([[[1, 1, 1, 1],\n",
              "        [1, 1, 1, 1],\n",
              "        [1, 1, 1, 1]],\n",
              "\n",
              "       [[1, 1, 1, 1],\n",
              "        [1, 1, 1, 1],\n",
              "        [1, 1, 1, 1]]], dtype=int16)"
            ]
          },
          "metadata": {
            "tags": []
          },
          "execution_count": 10
        }
      ]
    },
    {
      "cell_type": "code",
      "metadata": {
        "id": "oWVqPUTI3VtA",
        "colab_type": "code",
        "outputId": "17c65239-8b5e-483c-e979-4d5c98a05004",
        "colab": {}
      },
      "source": [
        "np.empty((2,3)) "
      ],
      "execution_count": 0,
      "outputs": [
        {
          "output_type": "execute_result",
          "data": {
            "text/plain": [
              "array([[1.5, 2. , 3. ],\n",
              "       [4. , 5. , 6. ]])"
            ]
          },
          "metadata": {
            "tags": []
          },
          "execution_count": 11
        }
      ]
    },
    {
      "cell_type": "markdown",
      "metadata": {
        "id": "4vQ3yVEj3VtD",
        "colab_type": "text"
      },
      "source": [
        "Коли використовується ранжування чисел із плаваючою точкою, як правило, неможливо передбачити кількість одержаних елементів через точність кінцевої плаваючої точки. З цієї причини, як правило, краще використовувати функцію **np.linspace**, яка отримує в якості аргументу кількість потрібних нам елементів, а не крок:"
      ]
    },
    {
      "cell_type": "code",
      "metadata": {
        "id": "u1h-tp183VtE",
        "colab_type": "code",
        "outputId": "c61c7505-3dde-43c4-9c9c-33d9607c00d5",
        "colab": {}
      },
      "source": [
        "from numpy import pi\n",
        "np.linspace(0, 2, 9)                 # 9 чисел від 0 до 2"
      ],
      "execution_count": 0,
      "outputs": [
        {
          "output_type": "execute_result",
          "data": {
            "text/plain": [
              "array([0.  , 0.25, 0.5 , 0.75, 1.  , 1.25, 1.5 , 1.75, 2.  ])"
            ]
          },
          "metadata": {
            "tags": []
          },
          "execution_count": 12
        }
      ]
    },
    {
      "cell_type": "code",
      "metadata": {
        "id": "WCRg6iiN3VtH",
        "colab_type": "code",
        "colab": {}
      },
      "source": [
        "x = np.linspace(0, 2*pi, 100)        \n",
        "f = np.sin(x)"
      ],
      "execution_count": 0,
      "outputs": []
    },
    {
      "cell_type": "markdown",
      "metadata": {
        "id": "5Te9PPfp3VtK",
        "colab_type": "text"
      },
      "source": [
        "### Виведення масиву"
      ]
    },
    {
      "cell_type": "code",
      "metadata": {
        "id": "zRBNXfmf3VtL",
        "colab_type": "code",
        "outputId": "f7f469f0-00b8-46d3-85b7-4a24840f9bf1",
        "colab": {}
      },
      "source": [
        "a = np.arange(6)                         # 1-мірний масив\n",
        "print(a)"
      ],
      "execution_count": 0,
      "outputs": [
        {
          "output_type": "stream",
          "text": [
            "[0 1 2 3 4 5]\n"
          ],
          "name": "stdout"
        }
      ]
    },
    {
      "cell_type": "code",
      "metadata": {
        "id": "A0FJF4JW3VtN",
        "colab_type": "code",
        "outputId": "7ad433d5-1492-40d9-af86-ef89fd4adfba",
        "colab": {}
      },
      "source": [
        "b = np.arange(12).reshape(4,3)           # 2-мірний масив\n",
        "print(b)"
      ],
      "execution_count": 0,
      "outputs": [
        {
          "output_type": "stream",
          "text": [
            "[[ 0  1  2]\n",
            " [ 3  4  5]\n",
            " [ 6  7  8]\n",
            " [ 9 10 11]]\n"
          ],
          "name": "stdout"
        }
      ]
    },
    {
      "cell_type": "code",
      "metadata": {
        "id": "zEoubafv3VtP",
        "colab_type": "code",
        "outputId": "e602dc9b-43cc-46a4-a4f9-179c51846404",
        "colab": {}
      },
      "source": [
        "c = np.arange(24).reshape(2,3,4)         # 3-мірний масив\n",
        "print(c)"
      ],
      "execution_count": 0,
      "outputs": [
        {
          "output_type": "stream",
          "text": [
            "[[[ 0  1  2  3]\n",
            "  [ 4  5  6  7]\n",
            "  [ 8  9 10 11]]\n",
            "\n",
            " [[12 13 14 15]\n",
            "  [16 17 18 19]\n",
            "  [20 21 22 23]]]\n"
          ],
          "name": "stdout"
        }
      ]
    },
    {
      "cell_type": "markdown",
      "metadata": {
        "id": "OhT5F8at3VtS",
        "colab_type": "text"
      },
      "source": [
        "### Базові операції"
      ]
    },
    {
      "cell_type": "markdown",
      "metadata": {
        "id": "RMg5kNeI3VtT",
        "colab_type": "text"
      },
      "source": [
        "Арифметичні оператори на масивах застосовуються по елементно. Створюється новий масив і заповнюється результатом."
      ]
    },
    {
      "cell_type": "code",
      "metadata": {
        "id": "OSH4wEa03VtU",
        "colab_type": "code",
        "outputId": "0fe14d8f-0908-4d4c-8e7f-049d5c49c72e",
        "colab": {}
      },
      "source": [
        "a = np.array( [20,30,40,50] )\n",
        "b = np.arange( 4 )\n",
        "b"
      ],
      "execution_count": 0,
      "outputs": [
        {
          "output_type": "execute_result",
          "data": {
            "text/plain": [
              "array([0, 1, 2, 3])"
            ]
          },
          "metadata": {
            "tags": []
          },
          "execution_count": 17
        }
      ]
    },
    {
      "cell_type": "code",
      "metadata": {
        "id": "ASY6ixT83VtW",
        "colab_type": "code",
        "outputId": "7f26e6b9-dcc1-4f44-93ae-ed44aec11167",
        "colab": {}
      },
      "source": [
        "c = a-b\n",
        "c"
      ],
      "execution_count": 0,
      "outputs": [
        {
          "output_type": "execute_result",
          "data": {
            "text/plain": [
              "array([20, 29, 38, 47])"
            ]
          },
          "metadata": {
            "tags": []
          },
          "execution_count": 18
        }
      ]
    },
    {
      "cell_type": "markdown",
      "metadata": {
        "id": "O9MIzgDE3VtZ",
        "colab_type": "text"
      },
      "source": [
        "#### Зведення в ступінь"
      ]
    },
    {
      "cell_type": "code",
      "metadata": {
        "id": "TtefJ_Ie3Vta",
        "colab_type": "code",
        "outputId": "da389c07-e318-47a4-c01c-36101544d2db",
        "colab": {}
      },
      "source": [
        "b**2"
      ],
      "execution_count": 0,
      "outputs": [
        {
          "output_type": "execute_result",
          "data": {
            "text/plain": [
              "array([0, 1, 4, 9])"
            ]
          },
          "metadata": {
            "tags": []
          },
          "execution_count": 19
        }
      ]
    },
    {
      "cell_type": "markdown",
      "metadata": {
        "id": "oe7M5Pug3Vtc",
        "colab_type": "text"
      },
      "source": [
        "#### Множення"
      ]
    },
    {
      "cell_type": "code",
      "metadata": {
        "id": "KaQ5NIUD3Vtc",
        "colab_type": "code",
        "outputId": "41c665e0-dfa9-4924-ea82-b021476ded0d",
        "colab": {}
      },
      "source": [
        "10*np.sin(a)"
      ],
      "execution_count": 0,
      "outputs": [
        {
          "output_type": "execute_result",
          "data": {
            "text/plain": [
              "array([ 9.12945251, -9.88031624,  7.4511316 , -2.62374854])"
            ]
          },
          "metadata": {
            "tags": []
          },
          "execution_count": 20
        }
      ]
    },
    {
      "cell_type": "markdown",
      "metadata": {
        "id": "X8Sfh6eq3Vtf",
        "colab_type": "text"
      },
      "source": [
        "#### Нерівність"
      ]
    },
    {
      "cell_type": "code",
      "metadata": {
        "id": "Jr8K-Iro3Vtf",
        "colab_type": "code",
        "outputId": "3a44ff73-a12f-414f-a744-e2a0ad1f40ca",
        "colab": {}
      },
      "source": [
        "a<35"
      ],
      "execution_count": 0,
      "outputs": [
        {
          "output_type": "execute_result",
          "data": {
            "text/plain": [
              "array([ True,  True, False, False])"
            ]
          },
          "metadata": {
            "tags": []
          },
          "execution_count": 21
        }
      ]
    },
    {
      "cell_type": "markdown",
      "metadata": {
        "id": "EiPG6TeA3Vti",
        "colab_type": "text"
      },
      "source": [
        "На відміну від багатьох матричних мов програмування, оператор множення $*$ працює по елементно в масивах NumPy. Матричне множення можна виконати за допомогою оператора **@** або методу **dot**:"
      ]
    },
    {
      "cell_type": "code",
      "metadata": {
        "id": "DvJCwco33Vti",
        "colab_type": "code",
        "colab": {}
      },
      "source": [
        "A = np.array([[1,1],\n",
        "              [0,1]] )\n",
        "\n",
        "B = np.array([[2,0],\n",
        "              [3,4]] )"
      ],
      "execution_count": 0,
      "outputs": []
    },
    {
      "cell_type": "markdown",
      "metadata": {
        "id": "OlVe_dnI3Vtl",
        "colab_type": "text"
      },
      "source": [
        "По елементне множення"
      ]
    },
    {
      "cell_type": "code",
      "metadata": {
        "id": "I6k-XPDD3Vtn",
        "colab_type": "code",
        "outputId": "bc662150-7d0e-490c-a954-6ff2922d89ea",
        "colab": {}
      },
      "source": [
        "A * B                       "
      ],
      "execution_count": 0,
      "outputs": [
        {
          "output_type": "execute_result",
          "data": {
            "text/plain": [
              "array([[2, 0],\n",
              "       [0, 4]])"
            ]
          },
          "metadata": {
            "tags": []
          },
          "execution_count": 23
        }
      ]
    },
    {
      "cell_type": "markdown",
      "metadata": {
        "id": "2SVgmfVB3Vts",
        "colab_type": "text"
      },
      "source": [
        "Матричне множення"
      ]
    },
    {
      "cell_type": "code",
      "metadata": {
        "id": "wT0e1rD63Vtt",
        "colab_type": "code",
        "outputId": "e36aa2f3-5472-41d4-caee-01f81383af06",
        "colab": {}
      },
      "source": [
        "A @ B                     "
      ],
      "execution_count": 0,
      "outputs": [
        {
          "output_type": "execute_result",
          "data": {
            "text/plain": [
              "array([[5, 4],\n",
              "       [3, 4]])"
            ]
          },
          "metadata": {
            "tags": []
          },
          "execution_count": 24
        }
      ]
    },
    {
      "cell_type": "markdown",
      "metadata": {
        "id": "h8tNCc7L3Vtv",
        "colab_type": "text"
      },
      "source": [
        "Матричне множення"
      ]
    },
    {
      "cell_type": "code",
      "metadata": {
        "id": "XNM_E_oe3Vtw",
        "colab_type": "code",
        "outputId": "5b499bcc-c2b5-4186-e596-43f720ed7b3b",
        "colab": {}
      },
      "source": [
        "A.dot(B)"
      ],
      "execution_count": 0,
      "outputs": [
        {
          "output_type": "execute_result",
          "data": {
            "text/plain": [
              "array([[5, 4],\n",
              "       [3, 4]])"
            ]
          },
          "metadata": {
            "tags": []
          },
          "execution_count": 25
        }
      ]
    },
    {
      "cell_type": "markdown",
      "metadata": {
        "id": "d9kjPmhg3Vt1",
        "colab_type": "text"
      },
      "source": [
        "Багато унарних операцій, таких як обчислення суми всіх елементів масиву, реалізовані як методи класу ndarray."
      ]
    },
    {
      "cell_type": "code",
      "metadata": {
        "id": "FwxzbmbI3Vt2",
        "colab_type": "code",
        "outputId": "aa5a705b-c2e6-4375-a8df-7093f48a0cbe",
        "colab": {}
      },
      "source": [
        "a = np.random.random((2,3))\n",
        "a"
      ],
      "execution_count": 0,
      "outputs": [
        {
          "output_type": "execute_result",
          "data": {
            "text/plain": [
              "array([[0.8807238 , 0.80954498, 0.4363596 ],\n",
              "       [0.31225657, 0.15228422, 0.57718236]])"
            ]
          },
          "metadata": {
            "tags": []
          },
          "execution_count": 26
        }
      ]
    },
    {
      "cell_type": "markdown",
      "metadata": {
        "id": "sR8xb-vQ3Vt6",
        "colab_type": "text"
      },
      "source": [
        "Сумування елементів масиву"
      ]
    },
    {
      "cell_type": "code",
      "metadata": {
        "id": "iv1Al22y3Vt6",
        "colab_type": "code",
        "outputId": "6c6a275c-3349-4c71-e930-819e71d0ae38",
        "colab": {}
      },
      "source": [
        "a.sum()"
      ],
      "execution_count": 0,
      "outputs": [
        {
          "output_type": "execute_result",
          "data": {
            "text/plain": [
              "3.168351538476806"
            ]
          },
          "metadata": {
            "tags": []
          },
          "execution_count": 27
        }
      ]
    },
    {
      "cell_type": "markdown",
      "metadata": {
        "id": "R8zKx7k63Vt9",
        "colab_type": "text"
      },
      "source": [
        "Визначення мінімального значення"
      ]
    },
    {
      "cell_type": "code",
      "metadata": {
        "id": "vw33pXEE3Vt-",
        "colab_type": "code",
        "outputId": "b615cb5f-f3c8-43eb-cdd8-727717f10bbc",
        "colab": {}
      },
      "source": [
        "a.min()"
      ],
      "execution_count": 0,
      "outputs": [
        {
          "output_type": "execute_result",
          "data": {
            "text/plain": [
              "0.15228422498698901"
            ]
          },
          "metadata": {
            "tags": []
          },
          "execution_count": 28
        }
      ]
    },
    {
      "cell_type": "markdown",
      "metadata": {
        "id": "3u45WYZM3VuA",
        "colab_type": "text"
      },
      "source": [
        "Визначення максимального значення"
      ]
    },
    {
      "cell_type": "code",
      "metadata": {
        "id": "-LhhPZ383VuB",
        "colab_type": "code",
        "outputId": "035c3b36-1ca9-47a5-c31a-f6d94f237d59",
        "colab": {}
      },
      "source": [
        "a.max()"
      ],
      "execution_count": 0,
      "outputs": [
        {
          "output_type": "execute_result",
          "data": {
            "text/plain": [
              "0.8807238047576498"
            ]
          },
          "metadata": {
            "tags": []
          },
          "execution_count": 29
        }
      ]
    },
    {
      "cell_type": "markdown",
      "metadata": {
        "id": "veeUzQmI3VuD",
        "colab_type": "text"
      },
      "source": [
        "#### Робота із рядками та стовпцями"
      ]
    },
    {
      "cell_type": "code",
      "metadata": {
        "id": "EZUUSyV-3VuD",
        "colab_type": "code",
        "outputId": "931c9baf-bd11-49ae-df23-4f5fe3b95d56",
        "colab": {}
      },
      "source": [
        "b = np.arange(12).reshape(3,4)\n",
        "b"
      ],
      "execution_count": 0,
      "outputs": [
        {
          "output_type": "execute_result",
          "data": {
            "text/plain": [
              "array([[ 0,  1,  2,  3],\n",
              "       [ 4,  5,  6,  7],\n",
              "       [ 8,  9, 10, 11]])"
            ]
          },
          "metadata": {
            "tags": []
          },
          "execution_count": 30
        }
      ]
    },
    {
      "cell_type": "markdown",
      "metadata": {
        "id": "HH9_T44U3VuG",
        "colab_type": "text"
      },
      "source": [
        "Сумування кожного стовпця"
      ]
    },
    {
      "cell_type": "code",
      "metadata": {
        "id": "WWNYEs_s3VuH",
        "colab_type": "code",
        "outputId": "21f2dff5-8cef-4906-fcc9-0055f56f93ef",
        "colab": {}
      },
      "source": [
        "b.sum(axis=0)                       "
      ],
      "execution_count": 0,
      "outputs": [
        {
          "output_type": "execute_result",
          "data": {
            "text/plain": [
              "array([12, 15, 18, 21])"
            ]
          },
          "metadata": {
            "tags": []
          },
          "execution_count": 31
        }
      ]
    },
    {
      "cell_type": "markdown",
      "metadata": {
        "id": "tkfyT0lp3VuK",
        "colab_type": "text"
      },
      "source": [
        "Мінімальні елементи в кожному стовпці"
      ]
    },
    {
      "cell_type": "code",
      "metadata": {
        "id": "c3sXiJyh3VuK",
        "colab_type": "code",
        "outputId": "ef2d88f7-562e-45d7-a099-76039cdfe957",
        "colab": {}
      },
      "source": [
        "b.min(axis=0)                          "
      ],
      "execution_count": 0,
      "outputs": [
        {
          "output_type": "execute_result",
          "data": {
            "text/plain": [
              "array([0, 1, 2, 3])"
            ]
          },
          "metadata": {
            "tags": []
          },
          "execution_count": 32
        }
      ]
    },
    {
      "cell_type": "markdown",
      "metadata": {
        "id": "HMThvIcF3VuP",
        "colab_type": "text"
      },
      "source": [
        "Максимальні елементи в кожному рядку"
      ]
    },
    {
      "cell_type": "code",
      "metadata": {
        "id": "33r2wDl83VuQ",
        "colab_type": "code",
        "outputId": "1eb9ec57-b6f5-4f65-cb88-ab2b0e0ca543",
        "colab": {}
      },
      "source": [
        "b.max(axis=1)  "
      ],
      "execution_count": 0,
      "outputs": [
        {
          "output_type": "execute_result",
          "data": {
            "text/plain": [
              "array([ 3,  7, 11])"
            ]
          },
          "metadata": {
            "tags": []
          },
          "execution_count": 33
        }
      ]
    },
    {
      "cell_type": "markdown",
      "metadata": {
        "id": "YFBxRGCc3VuT",
        "colab_type": "text"
      },
      "source": [
        "### Індексування масивів"
      ]
    },
    {
      "cell_type": "code",
      "metadata": {
        "id": "F7vlEjH33VuU",
        "colab_type": "code",
        "outputId": "4bf695b9-e3c2-4c2a-fbd4-5141fab0fe49",
        "colab": {}
      },
      "source": [
        "a = np.arange(10)**3\n",
        "a"
      ],
      "execution_count": 0,
      "outputs": [
        {
          "output_type": "execute_result",
          "data": {
            "text/plain": [
              "array([  0,   1,   8,  27,  64, 125, 216, 343, 512, 729])"
            ]
          },
          "metadata": {
            "tags": []
          },
          "execution_count": 34
        }
      ]
    },
    {
      "cell_type": "markdown",
      "metadata": {
        "id": "kn4qyCIS3VuX",
        "colab_type": "text"
      },
      "source": [
        "Доступ до довільного елементу масиву"
      ]
    },
    {
      "cell_type": "code",
      "metadata": {
        "id": "c9nFWMKP3VuX",
        "colab_type": "code",
        "outputId": "2536c00b-a2ef-42f3-a82c-16f389e321cc",
        "colab": {}
      },
      "source": [
        "a[2]"
      ],
      "execution_count": 0,
      "outputs": [
        {
          "output_type": "execute_result",
          "data": {
            "text/plain": [
              "8"
            ]
          },
          "metadata": {
            "tags": []
          },
          "execution_count": 35
        }
      ]
    },
    {
      "cell_type": "markdown",
      "metadata": {
        "id": "8yUA2KX33Vuc",
        "colab_type": "text"
      },
      "source": [
        "Доступ до декількох елементів масиву в зазначених межах"
      ]
    },
    {
      "cell_type": "code",
      "metadata": {
        "id": "0XxUHosG3Vuc",
        "colab_type": "code",
        "outputId": "d605e680-c289-4e85-9a6a-54c2f7d0ca50",
        "colab": {}
      },
      "source": [
        "a[2:5]"
      ],
      "execution_count": 0,
      "outputs": [
        {
          "output_type": "execute_result",
          "data": {
            "text/plain": [
              "array([ 8, 27, 64])"
            ]
          },
          "metadata": {
            "tags": []
          },
          "execution_count": 36
        }
      ]
    },
    {
      "cell_type": "markdown",
      "metadata": {
        "id": "DTAG_0ua3Vue",
        "colab_type": "text"
      },
      "source": [
        "Ітеративна заміна значень масиву\n",
        "Зі стартової позиції 6 замінити кожен другий елемент на -1000"
      ]
    },
    {
      "cell_type": "code",
      "metadata": {
        "id": "JRh35fT63Vue",
        "colab_type": "code",
        "outputId": "64e63920-88c5-4657-ab19-072678c24575",
        "colab": {}
      },
      "source": [
        "a[:6:2] = -1000\n",
        "a"
      ],
      "execution_count": 0,
      "outputs": [
        {
          "output_type": "execute_result",
          "data": {
            "text/plain": [
              "array([-1000,     1, -1000,    27, -1000,   125,   216,   343,   512,\n",
              "         729])"
            ]
          },
          "metadata": {
            "tags": []
          },
          "execution_count": 37
        }
      ]
    },
    {
      "cell_type": "markdown",
      "metadata": {
        "id": "qCnp9oeb3Vug",
        "colab_type": "text"
      },
      "source": [
        "Реверс масиву"
      ]
    },
    {
      "cell_type": "code",
      "metadata": {
        "id": "_vhcySDh3Vui",
        "colab_type": "code",
        "outputId": "d5ab3e66-7730-44c8-e084-08c3f9b38acb",
        "colab": {}
      },
      "source": [
        "a[ : :-1]                               "
      ],
      "execution_count": 0,
      "outputs": [
        {
          "output_type": "execute_result",
          "data": {
            "text/plain": [
              "array([  729,   512,   343,   216,   125, -1000,    27, -1000,     1,\n",
              "       -1000])"
            ]
          },
          "metadata": {
            "tags": []
          },
          "execution_count": 38
        }
      ]
    },
    {
      "cell_type": "markdown",
      "metadata": {
        "id": "HkFzWPpV3Vuk",
        "colab_type": "text"
      },
      "source": [
        "Доступ до елментів масиву через цикл"
      ]
    },
    {
      "cell_type": "code",
      "metadata": {
        "id": "EKwH4QXw3Vul",
        "colab_type": "code",
        "outputId": "f1855067-b02f-468e-ca3e-8fba24359445",
        "colab": {}
      },
      "source": [
        "for i in a:\n",
        "    print(\"%1.0f\" % (i**(1/3.)))"
      ],
      "execution_count": 0,
      "outputs": [
        {
          "output_type": "stream",
          "text": [
            "nan\n",
            "1\n",
            "nan\n",
            "3\n",
            "nan\n",
            "5\n",
            "6\n",
            "7\n",
            "8\n",
            "9\n"
          ],
          "name": "stdout"
        },
        {
          "output_type": "stream",
          "text": [
            "/home/svs/myenv/lib/python3.6/site-packages/ipykernel_launcher.py:2: RuntimeWarning: invalid value encountered in power\n",
            "  \n"
          ],
          "name": "stderr"
        }
      ]
    },
    {
      "cell_type": "markdown",
      "metadata": {
        "id": "IcHfP_II3Vun",
        "colab_type": "text"
      },
      "source": [
        "### Зміна розмірноста (\"форми\") масиву"
      ]
    },
    {
      "cell_type": "markdown",
      "metadata": {
        "id": "fp9OlKyH3Vun",
        "colab_type": "text"
      },
      "source": [
        "За допомогою функції **np.floor**, яка округлює число до цілого створимо масив із віипадковими числами."
      ]
    },
    {
      "cell_type": "code",
      "metadata": {
        "id": "9l46m9Uz3Vuo",
        "colab_type": "code",
        "outputId": "a13a98c7-2268-4f4a-928d-08e2e8bebe0f",
        "colab": {}
      },
      "source": [
        "a = np.floor(10*np.random.random((3,4)))\n",
        "a"
      ],
      "execution_count": 0,
      "outputs": [
        {
          "output_type": "execute_result",
          "data": {
            "text/plain": [
              "array([[1., 9., 9., 0.],\n",
              "       [4., 9., 2., 5.],\n",
              "       [6., 4., 0., 8.]])"
            ]
          },
          "metadata": {
            "tags": []
          },
          "execution_count": 40
        }
      ]
    },
    {
      "cell_type": "markdown",
      "metadata": {
        "id": "konqzz7f3Vuq",
        "colab_type": "text"
      },
      "source": [
        "Визначення розмірності масиву"
      ]
    },
    {
      "cell_type": "code",
      "metadata": {
        "id": "KJ8cNYxb3Vus",
        "colab_type": "code",
        "outputId": "a09f461d-e150-4c37-8c26-e8986db7ecea",
        "colab": {}
      },
      "source": [
        "a.shape"
      ],
      "execution_count": 0,
      "outputs": [
        {
          "output_type": "execute_result",
          "data": {
            "text/plain": [
              "(3, 4)"
            ]
          },
          "metadata": {
            "tags": []
          },
          "execution_count": 41
        }
      ]
    },
    {
      "cell_type": "markdown",
      "metadata": {
        "id": "r51Q7JH93Vuu",
        "colab_type": "text"
      },
      "source": [
        "Форму масиву можна змінювати за допомогою різних команд. Зауважте, що всі наступні три команди повертають модифікований масив, але не змінюють початковий масив:"
      ]
    },
    {
      "cell_type": "markdown",
      "metadata": {
        "id": "jjza03rw3Vuu",
        "colab_type": "text"
      },
      "source": [
        "Функція **ravel()** перетворює багатовимірний масив в одновимірний"
      ]
    },
    {
      "cell_type": "code",
      "metadata": {
        "id": "njXOIyoL3Vuv",
        "colab_type": "code",
        "outputId": "e72458ab-6f79-447f-e3be-9e55b03094f8",
        "colab": {}
      },
      "source": [
        "a.ravel()  "
      ],
      "execution_count": 0,
      "outputs": [
        {
          "output_type": "execute_result",
          "data": {
            "text/plain": [
              "array([1., 9., 9., 0., 4., 9., 2., 5., 6., 4., 0., 8.])"
            ]
          },
          "metadata": {
            "tags": []
          },
          "execution_count": 42
        }
      ]
    },
    {
      "cell_type": "markdown",
      "metadata": {
        "id": "3PdyNQba3Vuw",
        "colab_type": "text"
      },
      "source": [
        "Функція **reshape()** змінює форму масиву на задану"
      ]
    },
    {
      "cell_type": "code",
      "metadata": {
        "id": "DHJn7zIT3Vux",
        "colab_type": "code",
        "outputId": "1f155887-6306-406b-99f2-6864e2f51d92",
        "colab": {}
      },
      "source": [
        "a.reshape(6,2)  "
      ],
      "execution_count": 0,
      "outputs": [
        {
          "output_type": "execute_result",
          "data": {
            "text/plain": [
              "array([[1., 9.],\n",
              "       [9., 0.],\n",
              "       [4., 9.],\n",
              "       [2., 5.],\n",
              "       [6., 4.],\n",
              "       [0., 8.]])"
            ]
          },
          "metadata": {
            "tags": []
          },
          "execution_count": 43
        }
      ]
    },
    {
      "cell_type": "markdown",
      "metadata": {
        "id": "751rfcaO3Vuy",
        "colab_type": "text"
      },
      "source": [
        "Транспонування масиву"
      ]
    },
    {
      "cell_type": "code",
      "metadata": {
        "id": "W-YkNSJC3Vuz",
        "colab_type": "code",
        "outputId": "b3395a39-1504-44b4-8d97-753a0ab149c8",
        "colab": {}
      },
      "source": [
        "a.T"
      ],
      "execution_count": 0,
      "outputs": [
        {
          "output_type": "execute_result",
          "data": {
            "text/plain": [
              "array([[1., 4., 6.],\n",
              "       [9., 9., 4.],\n",
              "       [9., 2., 0.],\n",
              "       [0., 5., 8.]])"
            ]
          },
          "metadata": {
            "tags": []
          },
          "execution_count": 44
        }
      ]
    },
    {
      "cell_type": "markdown",
      "metadata": {
        "id": "lNLjiESF3Vu0",
        "colab_type": "text"
      },
      "source": [
        "Визначення розмірності транспонованого масиву"
      ]
    },
    {
      "cell_type": "code",
      "metadata": {
        "id": "aXcWcJ5Z3Vu1",
        "colab_type": "code",
        "outputId": "7fa9870a-9929-42fd-ef5d-8fd568cde5d6",
        "colab": {}
      },
      "source": [
        "a.T.shape"
      ],
      "execution_count": 0,
      "outputs": [
        {
          "output_type": "execute_result",
          "data": {
            "text/plain": [
              "(4, 3)"
            ]
          },
          "metadata": {
            "tags": []
          },
          "execution_count": 45
        }
      ]
    },
    {
      "cell_type": "markdown",
      "metadata": {
        "id": "zsRMIfd93Vu2",
        "colab_type": "text"
      },
      "source": [
        "Визначення розмірності вихідного масиву"
      ]
    },
    {
      "cell_type": "code",
      "metadata": {
        "id": "3CDhidTf3Vu3",
        "colab_type": "code",
        "outputId": "e1f4901c-3a75-484b-9ca4-f9f39c4d5189",
        "colab": {}
      },
      "source": [
        "a.shape"
      ],
      "execution_count": 0,
      "outputs": [
        {
          "output_type": "execute_result",
          "data": {
            "text/plain": [
              "(3, 4)"
            ]
          },
          "metadata": {
            "tags": []
          },
          "execution_count": 46
        }
      ]
    },
    {
      "cell_type": "markdown",
      "metadata": {
        "id": "aZZ0vEgS3Vu5",
        "colab_type": "text"
      },
      "source": [
        "Функція **reshape()** повертає аргумент із зміненою формою, тоді як метод **resize()** змінює сам масив:"
      ]
    },
    {
      "cell_type": "code",
      "metadata": {
        "id": "df1K_0Jt3Vu5",
        "colab_type": "code",
        "outputId": "9d31df42-664b-4357-aeb1-bf231b61fcd2",
        "colab": {}
      },
      "source": [
        "a"
      ],
      "execution_count": 0,
      "outputs": [
        {
          "output_type": "execute_result",
          "data": {
            "text/plain": [
              "array([[1., 9., 9., 0.],\n",
              "       [4., 9., 2., 5.],\n",
              "       [6., 4., 0., 8.]])"
            ]
          },
          "metadata": {
            "tags": []
          },
          "execution_count": 47
        }
      ]
    },
    {
      "cell_type": "code",
      "metadata": {
        "id": "Qb8mspSc3Vu9",
        "colab_type": "code",
        "outputId": "a086c968-22f7-4789-b65c-1b87a935d5cc",
        "colab": {}
      },
      "source": [
        "a.resize((2,6))\n",
        "a"
      ],
      "execution_count": 0,
      "outputs": [
        {
          "output_type": "execute_result",
          "data": {
            "text/plain": [
              "array([[1., 9., 9., 0., 4., 9.],\n",
              "       [2., 5., 6., 4., 0., 8.]])"
            ]
          },
          "metadata": {
            "tags": []
          },
          "execution_count": 48
        }
      ]
    },
    {
      "cell_type": "markdown",
      "metadata": {
        "id": "kwf7e7Ee3Vu_",
        "colab_type": "text"
      },
      "source": [
        "# Завдання\n",
        "## 1. Створити двомірний нульовий масив розміром 11х11 та заповнити його діагоналі одиницями.\n",
        "\n",
        "1.1. Задати розмір масиву"
      ]
    },
    {
      "cell_type": "code",
      "metadata": {
        "id": "PBJowcOt3Vu_",
        "colab_type": "code",
        "colab": {}
      },
      "source": [
        "size = 11"
      ],
      "execution_count": 0,
      "outputs": []
    },
    {
      "cell_type": "markdown",
      "metadata": {
        "id": "r_2iOZIs3VvB",
        "colab_type": "text"
      },
      "source": [
        "1.2. Створити нульовий масив заданого розміру"
      ]
    },
    {
      "cell_type": "code",
      "metadata": {
        "id": "IiVX3lxv3VvC",
        "colab_type": "code",
        "colab": {}
      },
      "source": [
        "arr = np.zeros((size,size))"
      ],
      "execution_count": 0,
      "outputs": []
    },
    {
      "cell_type": "markdown",
      "metadata": {
        "id": "btEoJ-UK3VvD",
        "colab_type": "text"
      },
      "source": [
        "1.3 Надрукувати створений масив"
      ]
    },
    {
      "cell_type": "code",
      "metadata": {
        "id": "3Ep3OdhN3VvE",
        "colab_type": "code",
        "outputId": "e666c8ec-c663-4687-eb80-b6c9d1063165",
        "colab": {
          "base_uri": "https://localhost:8080/",
          "height": 204
        }
      },
      "source": [
        "print(arr)"
      ],
      "execution_count": 0,
      "outputs": [
        {
          "output_type": "stream",
          "text": [
            "[[0. 0. 0. 0. 0. 0. 0. 0. 0. 0. 0.]\n",
            " [0. 0. 0. 0. 0. 0. 0. 0. 0. 0. 0.]\n",
            " [0. 0. 0. 0. 0. 0. 0. 0. 0. 0. 0.]\n",
            " [0. 0. 0. 0. 0. 0. 0. 0. 0. 0. 0.]\n",
            " [0. 0. 0. 0. 0. 0. 0. 0. 0. 0. 0.]\n",
            " [0. 0. 0. 0. 0. 0. 0. 0. 0. 0. 0.]\n",
            " [0. 0. 0. 0. 0. 0. 0. 0. 0. 0. 0.]\n",
            " [0. 0. 0. 0. 0. 0. 0. 0. 0. 0. 0.]\n",
            " [0. 0. 0. 0. 0. 0. 0. 0. 0. 0. 0.]\n",
            " [0. 0. 0. 0. 0. 0. 0. 0. 0. 0. 0.]\n",
            " [0. 0. 0. 0. 0. 0. 0. 0. 0. 0. 0.]]\n"
          ],
          "name": "stdout"
        }
      ]
    },
    {
      "cell_type": "markdown",
      "metadata": {
        "id": "SEVWN7aO3VvH",
        "colab_type": "text"
      },
      "source": [
        "1.4 Змінити діагоналі за допомогою двох циклів"
      ]
    },
    {
      "cell_type": "code",
      "metadata": {
        "id": "zkJqvvUO3VvI",
        "colab_type": "code",
        "colab": {}
      },
      "source": [
        "for i in range(size):\n",
        "\tfor j in range(size):\n",
        "\t\tif (i==j):\n",
        "\t\t\tarr[i][j] = 1\n",
        "\t\telif (i==size-j-1):\n",
        "\t\t\tarr[i][j] = 1"
      ],
      "execution_count": 0,
      "outputs": []
    },
    {
      "cell_type": "markdown",
      "metadata": {
        "id": "3IfeMTsR3VvO",
        "colab_type": "text"
      },
      "source": [
        "1.5 Вивести створений масив"
      ]
    },
    {
      "cell_type": "code",
      "metadata": {
        "id": "CyVorciL3VvO",
        "colab_type": "code",
        "outputId": "486ecb77-930c-4bd2-b2b6-b0e3744c64e4",
        "colab": {
          "base_uri": "https://localhost:8080/",
          "height": 204
        }
      },
      "source": [
        "print(arr)"
      ],
      "execution_count": 0,
      "outputs": [
        {
          "output_type": "stream",
          "text": [
            "[[1. 0. 0. 0. 0. 0. 0. 0. 0. 0. 1.]\n",
            " [0. 1. 0. 0. 0. 0. 0. 0. 0. 1. 0.]\n",
            " [0. 0. 1. 0. 0. 0. 0. 0. 1. 0. 0.]\n",
            " [0. 0. 0. 1. 0. 0. 0. 1. 0. 0. 0.]\n",
            " [0. 0. 0. 0. 1. 0. 1. 0. 0. 0. 0.]\n",
            " [0. 0. 0. 0. 0. 1. 0. 0. 0. 0. 0.]\n",
            " [0. 0. 0. 0. 1. 0. 1. 0. 0. 0. 0.]\n",
            " [0. 0. 0. 1. 0. 0. 0. 1. 0. 0. 0.]\n",
            " [0. 0. 1. 0. 0. 0. 0. 0. 1. 0. 0.]\n",
            " [0. 1. 0. 0. 0. 0. 0. 0. 0. 1. 0.]\n",
            " [1. 0. 0. 0. 0. 0. 0. 0. 0. 0. 1.]]\n"
          ],
          "name": "stdout"
        }
      ]
    },
    {
      "cell_type": "markdown",
      "metadata": {
        "id": "UfPp0anQ3VvQ",
        "colab_type": "text"
      },
      "source": [
        "## 2. Засобами NumPy створити вертикальні та горизонтальні зображення градієнту в обидва боки (поступове збільшення яскравості на зображенні).\n",
        "\n",
        "Приклад зображення градієнту\n",
        "<img src=\"https://github.com/mosolab/DIP/blob/Images/assignments/horizontal_grad.jpg?raw=1\" height=\"200\" width=\"200\">"
      ]
    },
    {
      "cell_type": "markdown",
      "metadata": {
        "id": "hNIHDbjt3VvR",
        "colab_type": "text"
      },
      "source": [
        "### Горизонтальний градієнт"
      ]
    },
    {
      "cell_type": "markdown",
      "metadata": {
        "id": "27aE0BTh3VvR",
        "colab_type": "text"
      },
      "source": [
        "2.1 Створити нульовий масив розміром 255х255"
      ]
    },
    {
      "cell_type": "code",
      "metadata": {
        "id": "GKaSlCwT3VvS",
        "colab_type": "code",
        "colab": {}
      },
      "source": [
        "import cv2\n",
        "horizontal_gradient1 = np.zeros((255,255))"
      ],
      "execution_count": 0,
      "outputs": []
    },
    {
      "cell_type": "markdown",
      "metadata": {
        "id": "q0QuU07d3VvT",
        "colab_type": "text"
      },
      "source": [
        "2.2 Визначити розміри масиву"
      ]
    },
    {
      "cell_type": "code",
      "metadata": {
        "id": "zTJNGFZU3VvU",
        "colab_type": "code",
        "colab": {}
      },
      "source": [
        "w = horizontal_gradient1.shape[1]\n",
        "h = horizontal_gradient1.shape[0]"
      ],
      "execution_count": 0,
      "outputs": []
    },
    {
      "cell_type": "markdown",
      "metadata": {
        "id": "oaxWXm283VvW",
        "colab_type": "text"
      },
      "source": [
        "2.3 Поелементно змінити яскравості кожного пікселя"
      ]
    },
    {
      "cell_type": "code",
      "metadata": {
        "id": "PdlObRRq3VvW",
        "colab_type": "code",
        "colab": {}
      },
      "source": [
        "for i in range(w):\n",
        "    for j in range(h):\n",
        "        horizontal_gradient1[i][j] = j"
      ],
      "execution_count": 0,
      "outputs": []
    },
    {
      "cell_type": "markdown",
      "metadata": {
        "id": "V_1MPbwt3VvY",
        "colab_type": "text"
      },
      "source": [
        "2.4 Записати зображення засабами OpenCV"
      ]
    },
    {
      "cell_type": "code",
      "metadata": {
        "id": "S5t8K3pN3VvY",
        "colab_type": "code",
        "outputId": "ca0d4e52-dd84-428b-e7ff-8b602a0d9b00",
        "colab": {
          "base_uri": "https://localhost:8080/",
          "height": 34
        }
      },
      "source": [
        "cv2.imwrite('horizontal_grad1.jpg', horizontal_gradient1)"
      ],
      "execution_count": 0,
      "outputs": [
        {
          "output_type": "execute_result",
          "data": {
            "text/plain": [
              "True"
            ]
          },
          "metadata": {
            "tags": []
          },
          "execution_count": 22
        }
      ]
    },
    {
      "cell_type": "markdown",
      "metadata": {
        "id": "UCgPvOou3Vva",
        "colab_type": "text"
      },
      "source": [
        "2.5 Аналогічно створити горизонтальний градієнт в інший бік"
      ]
    },
    {
      "cell_type": "code",
      "metadata": {
        "id": "DmQheXP13Vvb",
        "colab_type": "code",
        "outputId": "4234ee61-7cdd-42dc-bb9c-f7f22f934a9f",
        "colab": {
          "base_uri": "https://localhost:8080/",
          "height": 34
        }
      },
      "source": [
        "horizontal_gradient2 = np.zeros((255,255))\n",
        "\n",
        "w = horizontal_gradient2.shape[1]\n",
        "h = horizontal_gradient2.shape[0]\n",
        "for i in range(w):\n",
        "    for j in range(h):\n",
        "        horizontal_gradient2[i][j] = h-j\n",
        "        \n",
        "cv2.imwrite('horizontal_grad2.jpg', horizontal_gradient2)"
      ],
      "execution_count": 0,
      "outputs": [
        {
          "output_type": "execute_result",
          "data": {
            "text/plain": [
              "True"
            ]
          },
          "metadata": {
            "tags": []
          },
          "execution_count": 25
        }
      ]
    },
    {
      "cell_type": "markdown",
      "metadata": {
        "id": "Y5sZb0FM3Vvc",
        "colab_type": "text"
      },
      "source": [
        "### Вертикальний градієнт"
      ]
    },
    {
      "cell_type": "markdown",
      "metadata": {
        "id": "cPplkeex3Vvd",
        "colab_type": "text"
      },
      "source": [
        "2.6 Створити нульовий масив розміром 255х255"
      ]
    },
    {
      "cell_type": "code",
      "metadata": {
        "id": "loblGGO63Vvd",
        "colab_type": "code",
        "colab": {}
      },
      "source": [
        "vertical_gradient1 = np.zeros((255,255))"
      ],
      "execution_count": 0,
      "outputs": []
    },
    {
      "cell_type": "markdown",
      "metadata": {
        "id": "dC2A8KHV3Vvh",
        "colab_type": "text"
      },
      "source": [
        "2.7 Визначити розміри масиву"
      ]
    },
    {
      "cell_type": "code",
      "metadata": {
        "id": "sd3XMyc33Vvi",
        "colab_type": "code",
        "colab": {}
      },
      "source": [
        "w = vertical_gradient1.shape[1]\n",
        "h = vertical_gradient1.shape[0]"
      ],
      "execution_count": 0,
      "outputs": []
    },
    {
      "cell_type": "markdown",
      "metadata": {
        "id": "1cbd5Ggi3Vvj",
        "colab_type": "text"
      },
      "source": [
        "2.8 Поелементно змінити яскравості кожного пікселя"
      ]
    },
    {
      "cell_type": "code",
      "metadata": {
        "id": "9Xqk28-43Vvj",
        "colab_type": "code",
        "colab": {}
      },
      "source": [
        "for i in range(w):\n",
        "    for j in range(h):\n",
        "        vertical_gradient1[i][j] = i"
      ],
      "execution_count": 0,
      "outputs": []
    },
    {
      "cell_type": "markdown",
      "metadata": {
        "id": "2AMujG_g3Vvl",
        "colab_type": "text"
      },
      "source": [
        "2.9 Записати зображення засабами OpenCV"
      ]
    },
    {
      "cell_type": "code",
      "metadata": {
        "id": "GhXnLZPF3Vvl",
        "colab_type": "code",
        "outputId": "979d88ff-1511-45ae-84a5-498ef1be0bb1",
        "colab": {
          "base_uri": "https://localhost:8080/",
          "height": 34
        }
      },
      "source": [
        "cv2.imwrite('vertical_grad1.jpg', vertical_gradient1)"
      ],
      "execution_count": 0,
      "outputs": [
        {
          "output_type": "execute_result",
          "data": {
            "text/plain": [
              "True"
            ]
          },
          "metadata": {
            "tags": []
          },
          "execution_count": 30
        }
      ]
    },
    {
      "cell_type": "markdown",
      "metadata": {
        "id": "qkcdDasV3Vvm",
        "colab_type": "text"
      },
      "source": [
        "2.10 Аналогічно створити горизонтальний градієнт в інший бік"
      ]
    },
    {
      "cell_type": "code",
      "metadata": {
        "id": "TjOz_4yh3Vvn",
        "colab_type": "code",
        "outputId": "798462a6-eb4f-47e4-c4a9-8ceea4efaf55",
        "colab": {
          "base_uri": "https://localhost:8080/",
          "height": 34
        }
      },
      "source": [
        "vertical_gradient2 = np.zeros((255,255))\n",
        "\n",
        "w = vertical_gradient2.shape[1]\n",
        "h = vertical_gradient2.shape[0]\n",
        "\n",
        "for i in range(w):\n",
        "    for j in range(h):\n",
        "        vertical_gradient2[i][j] = h-i\n",
        "        \n",
        "cv2.imwrite('vertical_grad2.jpg', vertical_gradient2)\n"
      ],
      "execution_count": 0,
      "outputs": [
        {
          "output_type": "execute_result",
          "data": {
            "text/plain": [
              "True"
            ]
          },
          "metadata": {
            "tags": []
          },
          "execution_count": 34
        }
      ]
    }
  ]
}